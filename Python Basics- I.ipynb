{
 "cells": [
  {
   "cell_type": "markdown",
   "id": "9f4f10af",
   "metadata": {},
   "source": [
    "<div style=\"color:white;background-color:Gray;padding:3%;border-radius:100px 130px;;font-weight:bold;font-size:3em;text-align:center\">Python Fundamental</div>"
   ]
  },
  {
   "cell_type": "markdown",
   "id": "f7269426",
   "metadata": {},
   "source": [
    "<img src ='https://japan.zdnet.com/storage/2023/10/03/00756373f939a03af3184d63306b7f4b/t/584/438/d/231003_dev_as_1280_418676324.jpeg'>"
   ]
  },
  {
   "cell_type": "markdown",
   "id": "4590d3ab",
   "metadata": {},
   "source": [
    "# <h1 style=\"text-align: justify; font-family: 'Lucida Calligraphy'; font-size:35px; color:#e90045\">What is Python?</h1>\n",
    "\n",
    "- Python is a `widely-used programming language` (popular) that is designed in such a way that it is  easy to read and write. \n",
    "- It is called `\"high-level\"` because human readable unlike other languages. \n",
    "  It allows programmers to write code that is closer to human language and further from machine language, \n",
    "  making it simpler to understand and work with.\n",
    "  \n",
    "### <font color=\"Blue\" size=+2 ><div style=\"text-align: justify\">Why Python is Considered High-Level: </font></div>\n",
    "- **Abstracts Complexity:**   Python handles many of the complexities, such as memory management and data type conversions, so the programmer doesn't have to.\n",
    "- **Easy Syntax:**  The syntax of Python is straightforward and intuitive, resembling plain English, which makes it easier for developers to write and read code.\n",
    "- **Built-in Functions and Libraries:**   Python comes with a rich set of built-in functions and libraries that allow developers to perform a wide range of tasks without needing to write additional code from scratch.\n",
    "- **Cross-Platform Compatibility:**   Python code can run on various operating systems with minimal or no modification, making it versatile and convenient for developers.\n",
    "\n",
    "###  <font color=\"Blue\" size=+2 ><div style=\"text-align: justify\">How does the Python Language work? </font> </div>\n",
    "- Python code is first compiled to bytecode\n",
    "- which is then interpreted and executed by the Python Virtual Machine (PVM).\n",
    "\n",
    " >> - **Source code** is converted into **bytecode**, a lower-level, platform-independent representation of the code. \n",
    " >> - Bytecode files have a **`.pyc`** extension and are stored in a **`__pycache__`** directory.\n",
    " >> - The **Python Virtual Machine (PVM)** executes the bytecode. The PVM is an interpreter that reads the bytecode and performs the corresponding operations on the system's hardware.\n",
    " \n",
    " \n",
    "### <font color=\"Blue\" size=+2 ><div style=\"text-align: justify\">Key Features of Python </font> </div>\n",
    "**a. High-Level Language :**\n",
    "Python abstracts many of the complex details of the computer, such as memory management, making it easier to write and understand.\n",
    "\n",
    "**b. Interpreted Language :**\n",
    "Python is interpreted, meaning it executes the code line by line. This makes debugging easier but can be slower compared to compiled languages.\n",
    "\n",
    "**c. Dynamically Typed :**\n",
    "Variable types are determined at runtime, which allows for more flexibility in coding but can lead to runtime errors if not managed carefully.\n",
    "\n",
    "**d. Garbage Collection :**\n",
    "Python automatically manages memory allocation and deallocation through a garbage collector, which frees up memory that is no longer in use.\n",
    "\n",
    "**e. Extensive Standard Library :**\n",
    "Python comes with a large standard library that provides modules and functions for many common tasks, such as file I/O, system calls, and networking.\n",
    "\n"
   ]
  },
  {
   "cell_type": "markdown",
   "id": "af3f95b9",
   "metadata": {},
   "source": [
    "## <font color=\"Blue\" size=+2 ><div style=\"text-align: justify\">What are Python’s built-in data types? </font> </div>\n",
    "\n",
    "Integers, Floats, Strings, Lists, Tuples, Sets, Dictionaries, Booleans \n",
    "<img src=\"https://pynative.com/wp-content/uploads/2021/02/python-data-types.jpg\">"
   ]
  },
  {
   "cell_type": "raw",
   "id": "6addc44f",
   "metadata": {},
   "source": [
    "# Boolean :\n",
    "===========\n",
    "x = True\n",
    "x = False\n",
    "\n",
    "\n",
    "===========\n",
    "# None :\n",
    "===========\n",
    " x= None\n",
    " \n",
    " \n",
    "===========\n",
    "# Numeric:\n",
    "===========\n",
    "x = 1  # Integer\n",
    "x = 1.2 # Float\n",
    "x = x = 1 + 2j #Complex\n",
    "\n",
    "===========\n",
    "# Sequence:\n",
    "===========\n",
    "x = \"a\"   # String\n",
    "x = [\"a\",\"b\", \"c\"] or [1,2,3] or [1.2, 1, \"a\", True]   # List\n",
    "x = (\"a\",\"b\",\"c\") or(1,2,3) etc.   # Tuple\n",
    "\n",
    "\n",
    "=======\n",
    "# Set :\n",
    "=======\n",
    "x = {1, \"s\", 3, 5,\"e\" } # unique numbers\n",
    "x =  frozenset([1, 2, 3, 4, 5]) # immutable_set \n",
    "\n",
    "\n",
    "=======\n",
    "# Map:\n",
    "=======\n",
    "x = {\"k1\" :1, \"k2\":2,\"k3\":3}  #Dictionary\n",
    "example : student_grades = {\"Alice\": 90, \"Bob\": 85, \"Charlie\": 92}   \n",
    "key : value pair"
   ]
  },
  {
   "cell_type": "markdown",
   "id": "f50d6ebc",
   "metadata": {},
   "source": [
    "### <font color=\"Blue\" size=+2 ><div style=\"text-align: justify\">Why Python is dynamically typed langauge? </font> </div> \n",
    "Python is considered a dynamically typed language because **`the type of a variable is determined at runtime`** rather than at compile time. This means you don't need to explicitly declare the type of a variable when you create it. Instead, Python infers the type based on the value assigned to the variable."
   ]
  },
  {
   "cell_type": "code",
   "execution_count": 1,
   "id": "123c7828",
   "metadata": {},
   "outputs": [
    {
     "name": "stdout",
     "output_type": "stream",
     "text": [
      "<class 'int'>\n"
     ]
    }
   ],
   "source": [
    "a = 0\n",
    "print(type(a))"
   ]
  },
  {
   "cell_type": "code",
   "execution_count": null,
   "id": "7365bc4a",
   "metadata": {},
   "outputs": [],
   "source": [
    "a = 3.4\n",
    "print(type(a))"
   ]
  },
  {
   "cell_type": "code",
   "execution_count": 2,
   "id": "27076302",
   "metadata": {},
   "outputs": [
    {
     "name": "stdout",
     "output_type": "stream",
     "text": [
      "<class 'str'>\n"
     ]
    }
   ],
   "source": [
    "a = 1 + 2j\n",
    "print(type(a))"
   ]
  },
  {
   "cell_type": "code",
   "execution_count": 3,
   "id": "331c5d94",
   "metadata": {},
   "outputs": [
    {
     "name": "stdout",
     "output_type": "stream",
     "text": [
      "<class 'float'>\n"
     ]
    }
   ],
   "source": [
    "a = \"python\"\n",
    "print(type(a))"
   ]
  },
  {
   "cell_type": "code",
   "execution_count": null,
   "id": "b0420a7d",
   "metadata": {},
   "outputs": [],
   "source": [
    "a = True\n",
    "print(type(a))"
   ]
  },
  {
   "cell_type": "code",
   "execution_count": 4,
   "id": "567f24af",
   "metadata": {},
   "outputs": [
    {
     "name": "stdout",
     "output_type": "stream",
     "text": [
      "<class 'list'>\n"
     ]
    }
   ],
   "source": [
    "a =[1,2,'a']\n",
    "print(type(a))"
   ]
  },
  {
   "cell_type": "code",
   "execution_count": null,
   "id": "8d2619bd",
   "metadata": {},
   "outputs": [],
   "source": [
    "a = (1,2,3,)\n",
    "print(type(a))"
   ]
  },
  {
   "cell_type": "code",
   "execution_count": 6,
   "id": "b4fd8832",
   "metadata": {},
   "outputs": [
    {
     "name": "stdout",
     "output_type": "stream",
     "text": [
      "<class 'dict'>\n"
     ]
    }
   ],
   "source": [
    "a ={\"a\":1,\"b\":\"ss02\", \"c\":2.3}\n",
    "print(type(a))"
   ]
  },
  {
   "cell_type": "code",
   "execution_count": 10,
   "id": "9af1ee39",
   "metadata": {},
   "outputs": [
    {
     "name": "stdout",
     "output_type": "stream",
     "text": [
      "<class 'set'>\n"
     ]
    }
   ],
   "source": [
    "a ={1,2,3,4}\n",
    "print(type(a))"
   ]
  },
  {
   "cell_type": "markdown",
   "id": "41fdc3b7",
   "metadata": {},
   "source": [
    "### <font color=\"Blue\" size=+2 ><div style=\"text-align: justify\">Python Variables and Data Type </font> </div> \n",
    "\n",
    "The primary purpose of computers is to process data into useful information, for that to happen, the data needs to be stored in its memory. This is achieved using a programming language's variables and data types.\n",
    "\n",
    "Data types in Python are particular kinds of data items, as defined by the value they can take. Variables, on the other hand, are like labeled containers that store this data. They enable you to manage and modify information using specific identifiers.\n",
    "\n",
    "Data types are generally classified into two types:\n",
    ">> - **Primitive (Fundamental) Data**\n",
    ">> - **Non-Primitive (Composite) Data** \n",
    "\n",
    "\n",
    "### **Primitive (Fundamental) Data Types in Python:**\n",
    "Primitive data types represent simple values. These data types are the most basic and essential units used to store and manipulate information in a program. They translate directly into low-level machine code.\n",
    "\n",
    "Primitive data types include:\n",
    "\n",
    "- **String (str):** Represents sequences of characters. Should be enclosed in quotes. Example: \"Hello, Python!\"\n",
    "- **Integer (int):** Represents whole numbers without decimals. Example: 42\n",
    "- **Float (float):** Represents numbers with decimals. Example: 3.14\n",
    "- **Boolean (bool):** Represents either True or False.\n",
    "\n",
    "### **Non-Primitive (Composite) Data Types in Python :**\n",
    "Non-primitive data types are structures that can hold multiple values and are composed of other data types, including both primitive and other composite types. Unlike primitive data types, non-primitive types allow for more complex and structured representations of data.\n",
    "\n",
    "Non-primitive data types include:\n",
    "\n",
    "- **List (list):** Represents an ordered and mutable collection of values. Example: fruits = [\"apple\",\"banana\", \"apple\",\"orange\"]\n",
    "- **Tuple (tuple):** Represents an ordered and immutable collection of values. Example: coordinates = (3, 7)\n",
    "- **Set (set) :** Respresents unordered collection of unique items.  Example : fruits = {\"apple\", \"banana\", \"orange\"}\n",
    "- **Dictionary (dict):** Represents an unordered collection of key-value pairs. Example: person = {\"name\": \"Alice\", \"age\": 25, \"is_student\": True}\n",
    "\n",
    "Characteristics of Non-Primitive Data Types:\n",
    "\n",
    "- Mutability: Lists are mutable, meaning their elements can be modified after creation. Tuples, on the other hand, are immutable – their elements cannot be changed. Dictionaries are mutable – you can add, modify, or remove key-value pairs.\n",
    "- Collection of Values: Non-primitive data types allow the grouping of multiple values into a single structure, enabling the creation of more sophisticated data representations.\n",
    "- Ordered (Lists and Tuples): Lists and tuples maintain the order of elements, allowing for predictable indexing.\n",
    "- Key-Value Mapping (Dictionary): Dictionaries map keys to values, providing a way to organize and retrieve data based on specific identifiers.\n"
   ]
  },
  {
   "cell_type": "markdown",
   "id": "6b334fb6",
   "metadata": {},
   "source": [
    "### <font color=\"Blue\" size=+2 ><div style=\"text-align: justify\">The Versatility and Power of Python in the Tech Industry </font> </div> \n",
    "Python language is being used by almost all tech-giant companies like – Google, Amazon, Facebook, Instagram, Dropbox, Uber… etc.\n",
    "The biggest strength of Python is huge collection of standard library which can be used for the following:\n",
    "- Machine Learning\n",
    "- GUI Applications \n",
    "- Web frameworks like Django (used by YouTube, Instagram, Dropbox)\n",
    "- Image processing (like OpenCV, Pillow)\n",
    "- Web scraping (like Scrapy, BeautifulSoup, Selenium)\n",
    "- Test frameworks\n",
    "- Multimedia\n",
    "- Scientific computing\n",
    "- Text processing and many more..\n",
    "\n",
    "### <font color=\"Blue\" size=+2 ><div style=\"text-align: justify\">Python Libraries in Data Science </font> </div>\n",
    "Python's extensive ecosystem of libraries and tools makes it a powerful language for data science. Here are some of the key libraries used in data science:\n",
    "\n",
    "- NumPy: Fundamental package for numerical computation in Python, providing support for large multi-dimensional arrays and matrices, along with a collection of mathematical functions to operate on these arrays.\n",
    "- Pandas: Essential library for data manipulation and analysis, offering data structures like DataFrames and functions needed to manipulate numerical tables and time series data.\n",
    "- Matplotlib: Comprehensive library for creating static, animated, and interactive visualizations in Python, often used for plotting complex graphs and charts.\n",
    "- Seaborn: Data visualization library based on Matplotlib, providing a high-level interface for drawing attractive and informative statistical graphics.\n",
    "- SciPy: Library used for scientific and technical computing, built on NumPy and offering additional functionalities for optimization, integration, interpolation, eigenvalue problems, and more.\n",
    "- Scikit-Learn: Simple and efficient tools for data mining and data analysis, built on NumPy, SciPy, and Matplotlib, and widely used for implementing machine learning algorithms.\n",
    "- TensorFlow: Open-source machine learning framework developed by Google, extensively used for building and deploying machine learning models, particularly deep learning models.\n",
    "- Keras: High-level neural networks API, written in Python and capable of running on top of TensorFlow, making it easier to build and train deep learning models.\n",
    "- PyTorch: Open-source machine learning library developed by Facebook's AI Research lab, known for its flexibility and dynamic computation graph, making it popular for research and production use.\n",
    "- Statsmodels: Provides classes and functions for the estimation of many different statistical models, as well as for conducting statistical tests and statistical data exploration.\n",
    "- NLTK: Natural Language Toolkit, a suite of libraries and programs for symbolic and statistical natural language processing (NLP) for English.\n",
    "- spaCy: Industrial-strength NLP library designed for efficient processing of large volumes of text, offering functionalities like tokenization, parsing, named entity recognition, and more.\n",
    "- Flask : A lightweight and versatile web framework for Python, designed to make it easy to build web applications quickly and with minimal overhead.\n",
    "\n",
    "These libraries are critical for data scientists and analysts, enabling them to efficiently manipulate data, perform complex computations, and create insightful visualizations and machine learning models."
   ]
  },
  {
   "cell_type": "code",
   "execution_count": null,
   "id": "967f6ac5",
   "metadata": {},
   "outputs": [],
   "source": []
  }
 ],
 "metadata": {
  "kernelspec": {
   "display_name": "Python 3 (ipykernel)",
   "language": "python",
   "name": "python3"
  },
  "language_info": {
   "codemirror_mode": {
    "name": "ipython",
    "version": 3
   },
   "file_extension": ".py",
   "mimetype": "text/x-python",
   "name": "python",
   "nbconvert_exporter": "python",
   "pygments_lexer": "ipython3",
   "version": "3.11.7"
  }
 },
 "nbformat": 4,
 "nbformat_minor": 5
}
