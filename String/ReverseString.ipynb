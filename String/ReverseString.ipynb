{
 "cells": [
  {
   "cell_type": "markdown",
   "id": "51070047",
   "metadata": {},
   "source": [
    "# <div style=\"color:darkblue;background-color:skyblue;padding:2%;border-radius:130px 130px;font-size:2em;text-align:center\">Reverse a String</div>\n",
    " "
   ]
  },
  {
   "cell_type": "markdown",
   "id": "5b86f71d",
   "metadata": {},
   "source": [
    "<img src =\"https://cdn.hackr.io/uploads/posts/attachments/1669711294jIPZXmGayp.webp\">"
   ]
  },
  {
   "cell_type": "markdown",
   "id": "a7cc2748",
   "metadata": {},
   "source": [
    "<blockquote style=\"margin-right:auto; margin-left:auto; background-color: orange; padding: 1em; margin:3px;font-size:20px;color:white;letter-spacing:0.7px;text-align: justify;\">\n",
    "    \n",
    "    \n",
    "<strong style = \"color:blue;\">The Art of Reversing a String in Python: Five Ingenious Methods</strong>\n",
    "    \n",
    "Reversing a string is one of those fundamental tasks that every programmer encounters at some point in their journey. It may seem straightforward, but there's a lot more to it than meets the eye. Python, with its rich set of features, offers multiple ways to achieve this, each method bringing something unique to the table. In this article, we'll explore six different ways to reverse a string in Python, from the classic loop to the elegant slicing, and everything in between."
   ]
  },
  {
   "cell_type": "markdown",
   "id": "ee1f2840",
   "metadata": {},
   "source": [
    "<span style=\"background-color:pink;\n",
    "             color:darkblue;\n",
    "             font-size:20px;\n",
    "             text-align:center;\n",
    "              border-radius:12px;\n",
    "             font-weight:bold;             \n",
    "             padding:0px 20px;\">Method : 1 The Concise Slicing Method\n",
    "> In the most simpleset way we can utilize the slicing method. This is perhaps the most concise and idiomatic way to reverse a string in Python.\n",
    "</span>           "
   ]
  },
  {
   "cell_type": "code",
   "execution_count": 1,
   "id": "f3e2854c",
   "metadata": {},
   "outputs": [
    {
     "name": "stdout",
     "output_type": "stream",
     "text": [
      "olleh\n"
     ]
    }
   ],
   "source": [
    "def reverse_string_1(s):\n",
    "    return s[::-1]\n",
    "\n",
    "\n",
    "print(reverse_string_1(\"hello\"))"
   ]
  },
  {
   "cell_type": "markdown",
   "id": "b8a60487",
   "metadata": {},
   "source": [
    "<h1 style=\"font-size:15px; color:blue\";>Logic: Iterate through the string character by character, and prepend each character to a new string. </h1>"
   ]
  },
  {
   "cell_type": "markdown",
   "id": "5358858d",
   "metadata": {},
   "source": [
    "\n",
    "\n",
    "<div style=\"color:white;\n",
    "       display:fill;\n",
    "       border-radius:5px;\n",
    "       background-color:slateblue;\n",
    "       font-size:110%;\n",
    "       font-family:Nexa;\n",
    "       letter-spacing:0.5px\">\n",
    "    <p style=\"padding: 10px;\n",
    "          color:white;\">\n",
    "<strong>Explanation:</strong>\n",
    "        \n",
    "- s[::-1] uses slicing to take the entire string s but with a step of -1, effectively reversing the string.\n",
    "- The result is the reversed string.</p></div>"
   ]
  },
  {
   "cell_type": "markdown",
   "id": "7979233b",
   "metadata": {},
   "source": [
    "<span style=\"background-color:pink;\n",
    "             color:darkblue;\n",
    "             font-size:20px;\n",
    "             text-align:center;\n",
    "             border-radius:12px;\n",
    "             font-weight:bold;             \n",
    "             padding:0px 20px;\">Method : 2 The Classic For Loop\n",
    "    \n",
    ">The next method is a classic approach using a for loop. It may not be the most concise, but it’s straightforward and easy to understand\n",
    "</span>\n"
   ]
  },
  {
   "cell_type": "code",
   "execution_count": 2,
   "id": "20d13b18",
   "metadata": {},
   "outputs": [
    {
     "name": "stdout",
     "output_type": "stream",
     "text": [
      "olleh\n"
     ]
    }
   ],
   "source": [
    "def reverse_string_2(s):\n",
    "    reversed_str = \"\"\n",
    "    for char in s:\n",
    "        reversed_str = char + reversed_str\n",
    "    return reversed_str\n",
    "\n",
    "print(reverse_string_2(\"hello\"))"
   ]
  },
  {
   "cell_type": "markdown",
   "id": "eb59e407",
   "metadata": {},
   "source": [
    "\n",
    "<h1 style=\"font-size:15px; color:blue\";>Logic: Iterate through the string character by character, and prepend each character to a new string.</h1>"
   ]
  },
  {
   "cell_type": "markdown",
   "id": "66f3f3c2",
   "metadata": {},
   "source": [
    "<div style=\"color:white;\n",
    "       display:fill;\n",
    "       border-radius:5px;\n",
    "       background-color:slateblue;\n",
    "       font-size:110%;\n",
    "       font-family:Nexa;\n",
    "       letter-spacing:0.5px\">\n",
    "    <p style=\"padding: 10px;\n",
    "          color:white;\">\n",
    "<strong>Explanation:</strong>\n",
    "\n",
    "- Initialize an empty string reversed_str.\n",
    "- Loop through each character char in the input string s.\n",
    "- Prepend char to reversed_str (i.e., place char at the beginning of reversed_str).\n",
    "- After the loop, reversed_str will be the reversed string.</p></div>"
   ]
  },
  {
   "cell_type": "markdown",
   "id": "e88eff8c",
   "metadata": {},
   "source": [
    "<span style=\"background-color:pink;\n",
    "             color:darkblue;\n",
    "             font-size:20px;\n",
    "             text-align:center;\n",
    "             border-radius:32px;\n",
    "             font-weight:bold;             \n",
    "             padding:0px 20px;\">Method 3: The Pythonic reversed() Function\n",
    ">In this method, using the reversed() function and join() we can reverse a string of charecters\n",
    "</span>"
   ]
  },
  {
   "cell_type": "code",
   "execution_count": 3,
   "id": "3d450ff9",
   "metadata": {},
   "outputs": [
    {
     "name": "stdout",
     "output_type": "stream",
     "text": [
      "olleh\n"
     ]
    }
   ],
   "source": [
    "def reverse_string_3(s):\n",
    "    return ''.join(reversed(s))  \n",
    "\n",
    "\n",
    "print(reverse_string_3(\"hello\"))  "
   ]
  },
  {
   "cell_type": "markdown",
   "id": "b078a39e",
   "metadata": {},
   "source": [
    "<h1 style=\"font-size:15px; color:blue\";>Logic: Use Python's built-in reversed() function, which returns an iterator that accesses the given string in reverse order, and then join the characters to form a string.</h1>"
   ]
  },
  {
   "cell_type": "markdown",
   "id": "bbf2999f",
   "metadata": {},
   "source": [
    "<div style=\"color:white;\n",
    "       display:fill;\n",
    "       border-radius:5px;\n",
    "       background-color:slateblue;\n",
    "       font-size:110%;\n",
    "       font-family:Nexa;\n",
    "       letter-spacing:0.5px\">\n",
    "    <p style=\"padding: 10px;\n",
    "          color:white;\">\n",
    "<strong>Explanation:</strong>\n",
    "\n",
    "- reversed(s) returns an iterator that yields characters of s from the end to the start.\n",
    "- ''.join(reversed(s)) joins these characters into a new string, effectively reversing the original string..</p></div>"
   ]
  },
  {
   "cell_type": "markdown",
   "id": "eb54b6f6",
   "metadata": {},
   "source": [
    "<span style=\"background-color:pink;\n",
    "             color:darkblue;\n",
    "             font-size:20px;\n",
    "             text-align:center;\n",
    "             border-radius:32px;\n",
    "             font-weight:bold;             \n",
    "             padding:0px 20px;\">Method 4: List, reverse() and join() method\n",
    ">Another interesting way to reverse a string is to convert it into a list of characters, reverse the list in place, and then join it back into a string.\n",
    "</span>"
   ]
  },
  {
   "cell_type": "code",
   "execution_count": 4,
   "id": "17bc7b91",
   "metadata": {},
   "outputs": [
    {
     "name": "stdout",
     "output_type": "stream",
     "text": [
      "olleh\n"
     ]
    }
   ],
   "source": [
    "def reverse_string_4(s):\n",
    "    \n",
    "    convert_lst = list(s)\n",
    "    convert_lst.reverse()\n",
    "    return ''.join(convert_lst)\n",
    "\n",
    "\n",
    "print(reverse_string_4(\"hello\"))"
   ]
  },
  {
   "cell_type": "markdown",
   "id": "aea19a38",
   "metadata": {},
   "source": [
    "<h1 style=\"font-size:15px; color: blue\"> Logic: Convert the string into a list of characters, reverse the list in place using reverse(), and then join the list back into a string.</h1>"
   ]
  },
  {
   "cell_type": "markdown",
   "id": "2839c2a1",
   "metadata": {},
   "source": [
    "<div style=\"color:white;\n",
    "       display:fill;\n",
    "       border-radius:5px;\n",
    "       background-color:slateblue;\n",
    "       font-size:110%;\n",
    "       font-family:Nexa;\n",
    "       letter-spacing:0.5px\">\n",
    "    <p style=\"padding: 10px;\n",
    "          color:white;\">\n",
    "<strong>Explanation:</strong>\n",
    "\n",
    "- Convert the string s into a list of characters convert_lst.\n",
    "- Use convert_lst.reverse() to reverse the list in place.\n",
    "- Join the reversed list of characters back into a string using ''.join(convert_list).</p></div>"
   ]
  },
  {
   "cell_type": "markdown",
   "id": "90df060f",
   "metadata": {},
   "source": [
    "<span style=\"background-color:pink;\n",
    "             color:darkblue;\n",
    "             font-size:20px;\n",
    "             text-align:center;\n",
    "             border-radius:12px;\n",
    "             font-weight:bold;             \n",
    "             padding:0px 20px;\">Method :5 Elegant Recursion\n",
    "    \n",
    "    \n",
    "    \n",
    ">Recursion can be a beautifully elegant solution to many problems, including string reversal. This method calls itself with progressively smaller substrings until it reaches the base case.\n",
    "</span>"
   ]
  },
  {
   "cell_type": "code",
   "execution_count": 5,
   "id": "15d397ed",
   "metadata": {},
   "outputs": [
    {
     "name": "stdout",
     "output_type": "stream",
     "text": [
      "olleh\n"
     ]
    }
   ],
   "source": [
    "def reverse_string_5(s):\n",
    "    if len(s) == 0:\n",
    "        return s\n",
    "    else:\n",
    "        return reverse_string_5(s[1:]) + s[0]\n",
    "\n",
    "\n",
    "print(reverse_string_5(\"hello\")) "
   ]
  },
  {
   "cell_type": "markdown",
   "id": "76a0935f",
   "metadata": {},
   "source": [
    "<h1 style=\"font-size:15px; color:blue\";>Logic: Recursively call the function with the substring excluding the first character, and append the first character to the result of the recursive call.</h1>"
   ]
  },
  {
   "cell_type": "markdown",
   "id": "e1f8937a",
   "metadata": {},
   "source": [
    "<div style=\"color:white;\n",
    "       display:fill;\n",
    "       border-radius:5px;\n",
    "       background-color:slateblue;\n",
    "       font-size:110%;\n",
    "       font-family:Nexa;\n",
    "       letter-spacing:0.5px\">\n",
    "    <p style=\"padding: 10px;\n",
    "          color:white;\">\n",
    "<strong>Explanation:</strong>\n",
    "\n",
    "- If the input string s is empty (len(s) == 0), return s (base case).\n",
    "- Otherwise, recursively call reverse_string with the substring s[1:] (all characters except the first) and append s[0] (the first character) to the result of the recursive call.\n",
    "- This process continues until the base case is reached, effectively reversing the string.</p></div>\n"
   ]
  },
  {
   "cell_type": "code",
   "execution_count": null,
   "id": "fa7cce84",
   "metadata": {},
   "outputs": [],
   "source": []
  }
 ],
 "metadata": {
  "kernelspec": {
   "display_name": "Python 3 (ipykernel)",
   "language": "python",
   "name": "python3"
  },
  "language_info": {
   "codemirror_mode": {
    "name": "ipython",
    "version": 3
   },
   "file_extension": ".py",
   "mimetype": "text/x-python",
   "name": "python",
   "nbconvert_exporter": "python",
   "pygments_lexer": "ipython3",
   "version": "3.11.7"
  }
 },
 "nbformat": 4,
 "nbformat_minor": 5
}
