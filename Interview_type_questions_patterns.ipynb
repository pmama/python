{
 "cells": [
  {
   "cell_type": "markdown",
   "id": "be6c38cb",
   "metadata": {},
   "source": [
    "# For loop pattern problem\n"
   ]
  },
  {
   "cell_type": "code",
   "execution_count": 1,
   "id": "d9c678e4",
   "metadata": {},
   "outputs": [],
   "source": [
    "n = 5"
   ]
  },
  {
   "cell_type": "code",
   "execution_count": 4,
   "id": "edce53b8",
   "metadata": {},
   "outputs": [
    {
     "name": "stdout",
     "output_type": "stream",
     "text": [
      "0\n",
      "\n",
      "0\n",
      "1\n",
      "\n",
      "0\n",
      "1\n",
      "2\n",
      "\n",
      "0\n",
      "1\n",
      "2\n",
      "3\n",
      "\n",
      "0\n",
      "1\n",
      "2\n",
      "3\n",
      "4\n",
      "\n",
      "0\n",
      "1\n",
      "2\n",
      "3\n",
      "4\n",
      "5\n",
      "\n"
     ]
    }
   ],
   "source": [
    "for i in range(n+1):\n",
    "    for j in range(i+1):\n",
    "        print(j)\n",
    "    print()"
   ]
  },
  {
   "cell_type": "code",
   "execution_count": 5,
   "id": "ae9e4e7b",
   "metadata": {},
   "outputs": [
    {
     "name": "stdout",
     "output_type": "stream",
     "text": [
      "0 \n",
      "0 1 \n",
      "0 1 2 \n",
      "0 1 2 3 \n",
      "0 1 2 3 4 \n",
      "0 1 2 3 4 5 \n"
     ]
    }
   ],
   "source": [
    "for rows in range(n+1):    \n",
    "    for columns in range(rows+1):\n",
    "        print(columns, end =\" \")\n",
    "    print()"
   ]
  },
  {
   "cell_type": "code",
   "execution_count": 6,
   "id": "16f7127b",
   "metadata": {},
   "outputs": [
    {
     "name": "stdout",
     "output_type": "stream",
     "text": [
      "1 \n",
      "1 2 \n",
      "1 2 3 \n",
      "1 2 3 4 \n",
      "1 2 3 4 5 \n"
     ]
    }
   ],
   "source": [
    "for rows in range(1,n+1):    \n",
    "    for columns in range(1,rows+1):\n",
    "        print(columns, end =\" \")\n",
    "    print()        "
   ]
  },
  {
   "cell_type": "code",
   "execution_count": 48,
   "id": "9a1168f9",
   "metadata": {},
   "outputs": [
    {
     "name": "stdout",
     "output_type": "stream",
     "text": [
      "1 2 3 4 5 \n",
      "1 2 3 4 \n",
      "1 2 3 \n",
      "1 2 \n",
      "1 \n"
     ]
    }
   ],
   "source": [
    "for rows in range(n+1,1,-1):\n",
    "    for columns in range(1, rows):\n",
    "        print( columns, end =\" \")\n",
    "    print()"
   ]
  },
  {
   "cell_type": "code",
   "execution_count": 80,
   "id": "9373cb1c",
   "metadata": {},
   "outputs": [
    {
     "name": "stdout",
     "output_type": "stream",
     "text": [
      "1 \n",
      "1 3 \n",
      "1 3 5 \n",
      "1 3 5 7 \n",
      "1 3 5 7 9 \n"
     ]
    }
   ],
   "source": [
    "for rows in range(1,n+1,1):\n",
    "    for columns in  range(1, 2 * rows, 2):\n",
    "        print( columns , end =\" \")\n",
    "    print()"
   ]
  },
  {
   "cell_type": "code",
   "execution_count": 7,
   "id": "1b2427f7",
   "metadata": {},
   "outputs": [
    {
     "name": "stdout",
     "output_type": "stream",
     "text": [
      "     1 \n",
      "    1 3 \n",
      "   1 3 5 \n",
      "  1 3 5 7 \n",
      " 1 3 5 7 9 \n"
     ]
    }
   ],
   "source": [
    "for rows in range(1, n + 1):\n",
    "    leading_spaces = ' ' * (n - rows)\n",
    "    print(leading_spaces, end=\" \")\n",
    "        \n",
    "    for columns in range(1, 2 * rows, 2):           \n",
    "        print(str(columns), end=\" \")\n",
    "    print()"
   ]
  },
  {
   "cell_type": "code",
   "execution_count": 127,
   "id": "ba9b9e9c",
   "metadata": {},
   "outputs": [
    {
     "name": "stdout",
     "output_type": "stream",
     "text": [
      "1 2 3 4 5 6 7 \n",
      "  1 2 3 4 5 \n",
      "    1 2 3 \n",
      "      1 \n"
     ]
    }
   ],
   "source": [
    "n =7\n",
    "for rows in range( n , 0 , -2):\n",
    "    leading_spaces = ' ' *(n - rows)\n",
    "    print(leading_spaces, end=\"\")\n",
    "        \n",
    "    for columns in range(1, rows+1,  1):\n",
    "           \n",
    "        print(str(columns), end=\" \")\n",
    "    print()"
   ]
  },
  {
   "cell_type": "code",
   "execution_count": 25,
   "id": "b0675dd8",
   "metadata": {},
   "outputs": [
    {
     "name": "stdout",
     "output_type": "stream",
     "text": [
      "\n",
      " *\n",
      " * *\n",
      " * * *\n",
      " * * * *\n",
      " * * * * *\n"
     ]
    }
   ],
   "source": [
    "for rows in range(n+1):\n",
    "    for j in range(rows+1):\n",
    "         pattern = j*' *'\n",
    "    print(pattern)\n",
    "    "
   ]
  },
  {
   "cell_type": "code",
   "execution_count": 20,
   "id": "e17657ea",
   "metadata": {},
   "outputs": [
    {
     "name": "stdout",
     "output_type": "stream",
     "text": [
      "\n",
      "* \n",
      "* * \n",
      "* * * \n",
      "* * * * \n",
      "* * * * * \n"
     ]
    }
   ],
   "source": [
    "for rows in range(n+1):\n",
    "    print(rows * \"* \")"
   ]
  },
  {
   "cell_type": "code",
   "execution_count": 21,
   "id": "6cef52ad",
   "metadata": {},
   "outputs": [
    {
     "name": "stdout",
     "output_type": "stream",
     "text": [
      "      \n",
      "     * \n",
      "    * * \n",
      "   * * * \n",
      "  * * * * \n",
      " * * * * * \n"
     ]
    }
   ],
   "source": [
    "for rows in range(n+1):\n",
    "    print((n+1 - rows)*\" \" +rows * \"* \")"
   ]
  },
  {
   "cell_type": "code",
   "execution_count": 23,
   "id": "1dfc8ebc",
   "metadata": {},
   "outputs": [
    {
     "name": "stdout",
     "output_type": "stream",
     "text": [
      "     \n",
      "    * \n",
      "   * * \n",
      "  * * * \n",
      " * * * * \n",
      "* * * * * \n"
     ]
    }
   ],
   "source": [
    "for rows in range(n+1):\n",
    "    for j in range(rows+1):\n",
    "        pattern = j*'* '\n",
    "        space = (n-j)*\" \"\n",
    "    print(space + pattern)\n",
    "    "
   ]
  },
  {
   "cell_type": "code",
   "execution_count": 32,
   "id": "f34041fe",
   "metadata": {},
   "outputs": [
    {
     "name": "stdout",
     "output_type": "stream",
     "text": [
      " * * * * * \n",
      "  * * * * \n",
      "   * * * \n",
      "    * * \n",
      "     * \n"
     ]
    }
   ],
   "source": [
    "for rows in range(n,0,-1):\n",
    "    print((n+1 - rows)*\" \" +rows * \"* \")"
   ]
  }
 ],
 "metadata": {
  "kernelspec": {
   "display_name": "Python 3 (ipykernel)",
   "language": "python",
   "name": "python3"
  },
  "language_info": {
   "codemirror_mode": {
    "name": "ipython",
    "version": 3
   },
   "file_extension": ".py",
   "mimetype": "text/x-python",
   "name": "python",
   "nbconvert_exporter": "python",
   "pygments_lexer": "ipython3",
   "version": "3.11.7"
  }
 },
 "nbformat": 4,
 "nbformat_minor": 5
}
